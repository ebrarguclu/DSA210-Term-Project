{
 "cells": [
  {
   "cell_type": "code",
   "execution_count": 22,
   "metadata": {},
   "outputs": [],
   "source": [
    "#  Imports\n",
    "import pandas as pd\n",
    "import os"
   ]
  },
  {
   "cell_type": "code",
   "execution_count": 23,
   "metadata": {},
   "outputs": [
    {
     "name": "stderr",
     "output_type": "stream",
     "text": [
      "/var/folders/n0/g44pqrrd66q297cmcmdtmz180000gn/T/ipykernel_24622/2080117729.py:3: DtypeWarning: Columns (5,6) have mixed types. Specify dtype option on import or set low_memory=False.\n",
      "  mental_df = pd.read_csv(\"Mental health Depression disorder Data.csv\")\n"
     ]
    }
   ],
   "source": [
    "#  Load Datasets\n",
    "air_df = pd.read_csv(\"Air Pollution.csv\")\n",
    "mental_df = pd.read_csv(\"Mental health Depression disorder Data.csv\")\n"
   ]
  },
  {
   "cell_type": "code",
   "execution_count": 24,
   "metadata": {},
   "outputs": [],
   "source": [
    "#  Rename for clarity\n",
    "air_df.rename(columns={\n",
    "    \"Country Name\": \"Country\",\n",
    "    \"PM2.5 (μg/m3)\": \"PM2.5\",\n",
    "    \"PM10 (μg/m3)\": \"PM10\",\n",
    "    \"NO2 (μg/m3)\": \"NO2\"\n",
    "}, inplace=True)\n"
   ]
  },
  {
   "cell_type": "code",
   "execution_count": 25,
   "metadata": {},
   "outputs": [],
   "source": [
    "#  Drop unneeded columns\n",
    "air_df = air_df[[\"Country\", \"City\", \"Year\", \"PM2.5\", \"PM10\", \"NO2\"]]"
   ]
  },
  {
   "cell_type": "code",
   "execution_count": 26,
   "metadata": {},
   "outputs": [],
   "source": [
    "#  Convert Year to numeric\n",
    "air_df[\"Year\"] = pd.to_numeric(air_df[\"Year\"], errors=\"coerce\")\n",
    "mental_df[\"Year\"] = pd.to_numeric(mental_df[\"Year\"], errors=\"coerce\")"
   ]
  },
  {
   "cell_type": "code",
   "execution_count": 27,
   "metadata": {},
   "outputs": [],
   "source": [
    "#  Mental health: keep only relevant columns\n",
    "mental_df = mental_df.rename(columns={\"Entity\": \"Country\"})\n",
    "mental_df = mental_df[[\n",
    "    \"Country\", \"Year\",\n",
    "    \"Depression (%)\", \"Anxiety disorders (%)\"\n",
    "]]"
   ]
  },
  {
   "cell_type": "code",
   "execution_count": 28,
   "metadata": {},
   "outputs": [],
   "source": [
    "#  Aggregate pollution data to national level (mean over cities per year)\n",
    "pollution_grouped = air_df.groupby([\"Country\", \"Year\"])[[\"PM2.5\", \"PM10\", \"NO2\"]].mean().reset_index()"
   ]
  },
  {
   "cell_type": "code",
   "execution_count": 29,
   "metadata": {},
   "outputs": [],
   "source": [
    "#  Merge datasets\n",
    "merged_df = pd.merge(pollution_grouped, mental_df, on=[\"Country\", \"Year\"], how=\"inner\")"
   ]
  },
  {
   "cell_type": "code",
   "execution_count": 30,
   "metadata": {},
   "outputs": [],
   "source": [
    "#  Drop any rows with missing data\n",
    "merged_df.dropna(inplace=True)"
   ]
  },
  {
   "cell_type": "code",
   "execution_count": 31,
   "metadata": {},
   "outputs": [],
   "source": [
    "#  Save the cleaned data\n",
    "os.makedirs(\"DSA_PROJECT_DAT\", exist_ok=True)\n",
    "merged_df.to_csv(\"DSA_PROJECT_DAT/merged_cleaned_data.csv\", index=False)"
   ]
  },
  {
   "cell_type": "code",
   "execution_count": 32,
   "metadata": {},
   "outputs": [
    {
     "data": {
      "text/html": [
       "<div>\n",
       "<style scoped>\n",
       "    .dataframe tbody tr th:only-of-type {\n",
       "        vertical-align: middle;\n",
       "    }\n",
       "\n",
       "    .dataframe tbody tr th {\n",
       "        vertical-align: top;\n",
       "    }\n",
       "\n",
       "    .dataframe thead th {\n",
       "        text-align: right;\n",
       "    }\n",
       "</style>\n",
       "<table border=\"1\" class=\"dataframe\">\n",
       "  <thead>\n",
       "    <tr style=\"text-align: right;\">\n",
       "      <th></th>\n",
       "      <th>Country</th>\n",
       "      <th>Year</th>\n",
       "      <th>PM2.5</th>\n",
       "      <th>PM10</th>\n",
       "      <th>NO2</th>\n",
       "      <th>Depression (%)</th>\n",
       "      <th>Anxiety disorders (%)</th>\n",
       "    </tr>\n",
       "  </thead>\n",
       "  <tbody>\n",
       "    <tr>\n",
       "      <th>6</th>\n",
       "      <td>Albania</td>\n",
       "      <td>2015</td>\n",
       "      <td>21.790000</td>\n",
       "      <td>25.467500</td>\n",
       "      <td>18.585000</td>\n",
       "      <td>2.204454</td>\n",
       "      <td>3.388212</td>\n",
       "    </tr>\n",
       "    <tr>\n",
       "      <th>10</th>\n",
       "      <td>Albania</td>\n",
       "      <td>2016</td>\n",
       "      <td>21.480000</td>\n",
       "      <td>29.160000</td>\n",
       "      <td>21.186667</td>\n",
       "      <td>2.206507</td>\n",
       "      <td>3.386891</td>\n",
       "    </tr>\n",
       "    <tr>\n",
       "      <th>74</th>\n",
       "      <td>Australia</td>\n",
       "      <td>2012</td>\n",
       "      <td>14.450000</td>\n",
       "      <td>17.790000</td>\n",
       "      <td>7.965000</td>\n",
       "      <td>4.790080</td>\n",
       "      <td>6.614107</td>\n",
       "    </tr>\n",
       "    <tr>\n",
       "      <th>78</th>\n",
       "      <td>Australia</td>\n",
       "      <td>2013</td>\n",
       "      <td>9.940000</td>\n",
       "      <td>18.134091</td>\n",
       "      <td>12.176000</td>\n",
       "      <td>4.759686</td>\n",
       "      <td>6.608198</td>\n",
       "    </tr>\n",
       "    <tr>\n",
       "      <th>82</th>\n",
       "      <td>Australia</td>\n",
       "      <td>2014</td>\n",
       "      <td>7.485909</td>\n",
       "      <td>17.728125</td>\n",
       "      <td>11.102857</td>\n",
       "      <td>4.731142</td>\n",
       "      <td>6.602041</td>\n",
       "    </tr>\n",
       "  </tbody>\n",
       "</table>\n",
       "</div>"
      ],
      "text/plain": [
       "      Country  Year      PM2.5       PM10        NO2  Depression (%)  \\\n",
       "6     Albania  2015  21.790000  25.467500  18.585000        2.204454   \n",
       "10    Albania  2016  21.480000  29.160000  21.186667        2.206507   \n",
       "74  Australia  2012  14.450000  17.790000   7.965000        4.790080   \n",
       "78  Australia  2013   9.940000  18.134091  12.176000        4.759686   \n",
       "82  Australia  2014   7.485909  17.728125  11.102857        4.731142   \n",
       "\n",
       "    Anxiety disorders (%)  \n",
       "6                3.388212  \n",
       "10               3.386891  \n",
       "74               6.614107  \n",
       "78               6.608198  \n",
       "82               6.602041  "
      ]
     },
     "execution_count": 32,
     "metadata": {},
     "output_type": "execute_result"
    }
   ],
   "source": [
    "#  Preview\n",
    "merged_df.head()"
   ]
  }
 ],
 "metadata": {
  "kernelspec": {
   "display_name": "DSA201",
   "language": "python",
   "name": "python3"
  },
  "language_info": {
   "codemirror_mode": {
    "name": "ipython",
    "version": 3
   },
   "file_extension": ".py",
   "mimetype": "text/x-python",
   "name": "python",
   "nbconvert_exporter": "python",
   "pygments_lexer": "ipython3",
   "version": "3.12.5"
  }
 },
 "nbformat": 4,
 "nbformat_minor": 2
}
